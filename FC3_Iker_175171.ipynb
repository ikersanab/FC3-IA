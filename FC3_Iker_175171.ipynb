{
 "cells": [
  {
   "cell_type": "code",
   "execution_count": 1094,
   "metadata": {},
   "outputs": [],
   "source": [
    "import numpy as np, random, operator, pandas as pd, matplotlib.pyplot as plt"
   ]
  },
  {
   "cell_type": "markdown",
   "metadata": {},
   "source": [
    "## Classes"
   ]
  },
  {
   "cell_type": "markdown",
   "metadata": {},
   "source": [
    "Stations"
   ]
  },
  {
   "cell_type": "code",
   "execution_count": 1095,
   "metadata": {},
   "outputs": [],
   "source": [
    "class Station:\n",
    "    def __init__(self, name):\n",
    "        self.name = name        #each station has a name\n",
    "        self.connections = {}   #each station has a set of conections\n",
    "        self.default_distance = 10000  # Set default distance to positive infinity for not connected cities\n",
    "    \n",
    "    def add_connection(self, station, travel_time): #we add a method to add conections to other stations with a travel time\n",
    "        self.connections[station] = travel_time\n",
    "\n",
    "    def distance(self, station):\n",
    "        return self.connections.get(station, self.default_distance) #we add a method to retrieve the travel time\n",
    "\n",
    "    def __repr__(self): #we represent each station with just its name\n",
    "        return self.name\n",
    "    \n",
    "    "
   ]
  },
  {
   "cell_type": "code",
   "execution_count": 1096,
   "metadata": {},
   "outputs": [],
   "source": [
    "# Instantiate a Station object for each subway station\n",
    "el_rosario = Station(\"el_rosario\")\n",
    "instituto_del_petroleo = Station(\"instituto_del_petroleo\")\n",
    "deportivo_18_de_marzo = Station(\"deportivo_18_de_marzo\")\n",
    "la_raza = Station(\"la_raza\")\n",
    "consulado = Station(\"consulado\")\n",
    "morelos = Station(\"morelos\")\n",
    "san_lazaro = Station(\"san_lazaro\")\n",
    "guerrero = Station(\"guerrero\")\n",
    "hidalgo = Station(\"hidalgo\")\n",
    "bellas_artes = Station(\"bellas_artes\")\n",
    "salto_del_agua = Station(\"salto_del_agua\")\n",
    "balderas = Station(\"balderas\")\n",
    "tacubaya = Station(\"tacubaya\")\n",
    "pino_suarez = Station(\"pino_suarez\")\n",
    "martin_carrera = Station(\"martin_carrera\")\n",
    "oceania = Station(\"oceania\")\n",
    "pantitlan = Station(\"pantitlan\")\n",
    "candelaria = Station(\"candelaria\")\n",
    "centro_medico = Station(\"centro_medico\")\n",
    "tacuba = Station(\"tacuba\")\n",
    "garibaldi = Station(\"garibaldi\")\n",
    "ermita = Station(\"ermita\")\n",
    "atlalilco = Station(\"atlalico\")\n",
    "zapata  = Station(\"zapata\")\n",
    "mixcoac = Station(\"mixcoac\")\n",
    "jamaica = Station(\"jamaica\")\n",
    "chabacano = Station(\"chabacano\")\n",
    "\n",
    "#Connections\n",
    "el_rosario.add_connection(instituto_del_petroleo, 6)\n",
    "el_rosario.add_connection(tacuba, 4)\n",
    "instituto_del_petroleo.add_connection(el_rosario, 6)\n",
    "instituto_del_petroleo.add_connection(la_raza, 2)\n",
    "instituto_del_petroleo.add_connection(deportivo_18_de_marzo, 2)\n",
    "deportivo_18_de_marzo.add_connection(instituto_del_petroleo, 2)\n",
    "deportivo_18_de_marzo.add_connection(martin_carrera, 2)\n",
    "martin_carrera.add_connection(deportivo_18_de_marzo, 2)\n",
    "martin_carrera.add_connection(consulado, 3)\n",
    "tacuba.add_connection(el_rosario, 4)\n",
    "tacuba.add_connection(hidalgo, 7)\n",
    "tacuba.add_connection(tacubaya, 5)\n",
    "hidalgo.add_connection(tacuba, 7)\n",
    "hidalgo.add_connection(guerrero, 1)\n",
    "hidalgo.add_connection(bellas_artes, 1)\n",
    "hidalgo.add_connection(balderas, 2)\n",
    "bellas_artes.add_connection(hidalgo, 1)\n",
    "bellas_artes.add_connection(pino_suarez, 3)\n",
    "bellas_artes.add_connection(garibaldi, 1)\n",
    "bellas_artes.add_connection(salto_del_agua, 2)\n",
    "pino_suarez.add_connection(bellas_artes, 3)\n",
    "pino_suarez.add_connection(salto_del_agua, 2)\n",
    "pino_suarez.add_connection(candelaria, 2)\n",
    "pino_suarez.add_connection(chabacano, 2)\n",
    "chabacano.add_connection(pino_suarez, 2)\n",
    "chabacano.add_connection(centro_medico, 2)\n",
    "chabacano.add_connection(jamaica, 1)\n",
    "chabacano.add_connection(ermita, 6)\n",
    "ermita.add_connection(chabacano, 6)\n",
    "ermita.add_connection(zapata, 3)\n",
    "ermita.add_connection(atlalilco, 2)\n",
    "tacubaya.add_connection(tacuba, 5)\n",
    "tacubaya.add_connection(balderas, 6)\n",
    "tacubaya.add_connection(centro_medico, 3)\n",
    "tacubaya.add_connection(mixcoac, 3)\n",
    "balderas.add_connection(tacubaya, 6)\n",
    "balderas.add_connection(hidalgo, 2)\n",
    "balderas.add_connection(salto_del_agua, 1)\n",
    "balderas.add_connection(centro_medico, 3)\n",
    "salto_del_agua.add_connection(balderas, 1)\n",
    "salto_del_agua.add_connection(bellas_artes, 2)\n",
    "salto_del_agua.add_connection(pino_suarez, 2)\n",
    "salto_del_agua.add_connection(chabacano, 3)\n",
    "candelaria.add_connection(pino_suarez, 2)\n",
    "candelaria.add_connection(morelos, 1)\n",
    "candelaria.add_connection(san_lazaro, 1)\n",
    "candelaria.add_connection(jamaica, 2)\n",
    "san_lazaro.add_connection(candelaria, 1)\n",
    "san_lazaro.add_connection(morelos, 1)\n",
    "san_lazaro.add_connection(oceania, 3)\n",
    "san_lazaro.add_connection(pantitlan, 6)\n",
    "pantitlan.add_connection(oceania, 3)\n",
    "pantitlan.add_connection(san_lazaro, 6)\n",
    "pantitlan.add_connection(jamaica, 5)\n",
    "la_raza.add_connection(instituto_del_petroleo, 2)\n",
    "la_raza.add_connection(deportivo_18_de_marzo, 2)\n",
    "la_raza.add_connection(consulado, 3)\n",
    "la_raza.add_connection(guerrero, 2)\n",
    "guerrero.add_connection(la_raza, 2)\n",
    "guerrero.add_connection(garibaldi, 1)\n",
    "guerrero.add_connection(hidalgo, 1)\n",
    "zapata.add_connection(centro_medico, 4)\n",
    "zapata.add_connection(ermita, 3)\n",
    "zapata.add_connection(mixcoac, 3)\n",
    "garibaldi.add_connection(guerrero, 1)\n",
    "garibaldi.add_connection(morelos, 3)\n",
    "garibaldi.add_connection(bellas_artes, 1)\n",
    "atlalilco.add_connection(chabacano, 8)\n",
    "atlalilco.add_connection(ermita, 2)\n",
    "jamaica.add_connection(chabacano, 1)\n",
    "jamaica.add_connection(candelaria, 2)\n",
    "jamaica.add_connection(pantitlan, 5)\n",
    "oceania.add_connection(san_lazaro, 3)\n",
    "oceania.add_connection(consulado, 3)\n",
    "oceania.add_connection(pantitlan, 3)\n",
    "morelos.add_connection(garibaldi, 3)\n",
    "morelos.add_connection(consulado, 2)\n",
    "morelos.add_connection(san_lazaro, 1)\n",
    "morelos.add_connection(candelaria, 1)\n",
    "consulado.add_connection(la_raza, 3)\n",
    "consulado.add_connection(martin_carrera, 3)\n",
    "consulado.add_connection(oceania, 3)\n",
    "consulado.add_connection(morelos, 2)\n",
    "centro_medico.add_connection(tacubaya, 3)\n",
    "centro_medico.add_connection(balderas, 3)\n",
    "centro_medico.add_connection(chabacano, 2)\n",
    "centro_medico.add_connection(zapata, 4)\n",
    "mixcoac.add_connection(tacubaya, 3)\n",
    "mixcoac.add_connection(zapata, 3)\n"
   ]
  },
  {
   "cell_type": "markdown",
   "metadata": {},
   "source": [
    "Create a fitness function"
   ]
  },
  {
   "cell_type": "code",
   "execution_count": 1202,
   "metadata": {},
   "outputs": [],
   "source": [
    "class Fitness:\n",
    "    def __init__(self, route): #the class fitness will have a route, with a distance and fitness of the route\n",
    "        self.route = route\n",
    "        self.distance = 0\n",
    "        self.fitness= 0.0\n",
    "    \n",
    "    def routeDistance(self): #this method will calculate the distance of a route by adding all of the individual distances \n",
    "        if self.distance ==0:\n",
    "            pathDistance = 0\n",
    "            for i in range(0, len(self.route)-1):\n",
    "                fromStation = self.route[i] #it sets from station to be route[i]\n",
    "                toStation = None\n",
    "                if i + 1 < len(self.route):\n",
    "                    toStation = self.route[i + 1] #it sets to station to be route[i]\n",
    "                else:\n",
    "                    toStation = self.route[0]\n",
    "                pathDistance += fromStation.distance(toStation) #uses the station class distance method to add each distance\n",
    "            self.distance = pathDistance\n",
    "        return self.distance\n",
    "    \n",
    "    def routeFitness(self):\n",
    "        if self.fitness == 0: #if it has no fitness value yet it calculates it with the inverse of the distance so shorter distances mean greater fitness\n",
    "            route_distance = self.routeDistance()\n",
    "            self.fitness = 1 / float(route_distance)\n",
    "        return self.fitness   "
   ]
  },
  {
   "cell_type": "markdown",
   "metadata": {},
   "source": [
    "## Create our initial population"
   ]
  },
  {
   "cell_type": "markdown",
   "metadata": {},
   "source": [
    "Route generator"
   ]
  },
  {
   "cell_type": "code",
   "execution_count": 1098,
   "metadata": {},
   "outputs": [],
   "source": [
    "\n",
    "def createRoute(StationList):\n",
    "    route = [el_rosario]  # Start with the start station\n",
    "    \n",
    "    current_station = el_rosario\n",
    "    remaining_stations = StationList.copy()  # Make a copy of the list of stations\n",
    "    \n",
    "    # Remove start and end stations from the list\n",
    "    remaining_stations.remove(el_rosario)\n",
    "    remaining_stations.remove(san_lazaro)\n",
    "    \n",
    "    # Flag to indicate whether more stations can be added\n",
    "    more_stations_possible = True\n",
    "    \n",
    "    # Iterate until there are no remaining stations or it's not possible to add more stations\n",
    "    while remaining_stations and more_stations_possible:\n",
    "        # Shuffle the remaining stations to randomize selection\n",
    "        random.shuffle(remaining_stations)\n",
    "        \n",
    "        # Flag to track if a station was added in this iteration\n",
    "        station_added = False\n",
    "        \n",
    "        # Iterate over the remaining stations\n",
    "        for next_station in remaining_stations:\n",
    "            distance_to_next = current_station.distance(next_station)\n",
    "            \n",
    "            # Check if adding the next station violates the distance constraint\n",
    "            if distance_to_next < 100:\n",
    "                route.append(next_station)\n",
    "                remaining_stations.remove(next_station)\n",
    "                current_station = next_station\n",
    "                station_added = True\n",
    "                break  # Stop iterating if a station is added in this iteration\n",
    "        \n",
    "        # Update the flag indicating if more stations can be added\n",
    "        more_stations_possible = station_added\n",
    "    \n",
    "    # Check the distance from the last added station to san_lazaro\n",
    "    if route[-1].distance(san_lazaro) >= 100:\n",
    "        route.pop()  # Remove the last station if the distance constraint is violated\n",
    "    \n",
    "    # Add the end station\n",
    "    route.append(san_lazaro)\n",
    "    \n",
    "    return route\n",
    "\n",
    "\n",
    "\n",
    "\n"
   ]
  },
  {
   "cell_type": "markdown",
   "metadata": {},
   "source": [
    "Create first \"population\" (list of routes) with random routes generated with past code"
   ]
  },
  {
   "cell_type": "code",
   "execution_count": 1099,
   "metadata": {},
   "outputs": [],
   "source": [
    "def initialPopulation(popSize, StationList):\n",
    "    population = []\n",
    "\n",
    "    for i in range(0, popSize):\n",
    "        population.append(createRoute(StationList))\n",
    "    return population"
   ]
  },
  {
   "cell_type": "markdown",
   "metadata": {},
   "source": [
    "## Create the genetic algorithm"
   ]
  },
  {
   "cell_type": "markdown",
   "metadata": {},
   "source": [
    "Rank individuals"
   ]
  },
  {
   "cell_type": "code",
   "execution_count": 1100,
   "metadata": {},
   "outputs": [],
   "source": [
    "def rankRoutes(population):\n",
    "    fitnessResults = {}\n",
    "    for i in range(0,len(population)):\n",
    "        fitnessResults[i] = Fitness(population[i]).routeFitness() #we calculate the fitness of each individual of the population\n",
    "    return sorted(fitnessResults.items(), key = operator.itemgetter(1), reverse = True)  #we retrieve the fitness sorted values"
   ]
  },
  {
   "cell_type": "markdown",
   "metadata": {},
   "source": [
    "Create a selection function that will be used to make the list of parent routes"
   ]
  },
  {
   "cell_type": "code",
   "execution_count": 1101,
   "metadata": {},
   "outputs": [],
   "source": [
    "def selection(popRanked, eliteSize):\n",
    "    selectionResults = []\n",
    "    df = pd.DataFrame(np.array(popRanked), columns=[\"Index\",\"Fitness\"]) #we create a data frame with the cumulative sum of fitness and the cummulative sum of porcentafe os fitness\n",
    "    df['cum_sum'] = df.Fitness.cumsum()\n",
    "    df['cum_perc'] = 100*df.cum_sum/df.Fitness.sum()\n",
    "    \n",
    "    for i in range(0, eliteSize):   #we select the elite to guarantee they stay for the next generation\n",
    "        selectionResults.append(popRanked[i][0])\n",
    "    for i in range(0, len(popRanked) - eliteSize):\n",
    "        pick = 100*random.random()\n",
    "        for i in range(0, len(popRanked)):\n",
    "            if pick <= df.iat[i,3]:\n",
    "                selectionResults.append(popRanked[i][0]) #we select random individuals for the next generation to have diversity of population\n",
    "                break\n",
    "    return selectionResults"
   ]
  },
  {
   "cell_type": "markdown",
   "metadata": {},
   "source": [
    "Create mating pool for individuals to reproduce using the selected individuals from the selection function"
   ]
  },
  {
   "cell_type": "code",
   "execution_count": 1102,
   "metadata": {},
   "outputs": [],
   "source": [
    "def matingPool(population, selectionResults):\n",
    "    matingpool = []\n",
    "    for i in range(0, len(selectionResults)):\n",
    "        index = selectionResults[i]\n",
    "        matingpool.append(population[index])\n",
    "    return matingpool"
   ]
  },
  {
   "cell_type": "markdown",
   "metadata": {},
   "source": [
    "Create a crossover function for two parents to create one child"
   ]
  },
  {
   "cell_type": "code",
   "execution_count": 1103,
   "metadata": {},
   "outputs": [],
   "source": [
    "def breed(parent1, parent2):\n",
    "    child = []\n",
    "    childP1 = []\n",
    "    childP2 = []\n",
    "    \n",
    "    # Determine the shorter and longer parents\n",
    "    shorter_parent = parent1 if len(parent1) < len(parent2) else parent2\n",
    "    longer_parent = parent2 if len(parent1) < len(parent2) else parent1\n",
    "    \n",
    "    # Randomly select crossover points within the length of the shorter parent\n",
    "    geneA = int(random.random() * len(shorter_parent))\n",
    "    geneB = int(random.random() * len(shorter_parent))\n",
    "    \n",
    "    startGene = min(geneA, geneB)\n",
    "    endGene = max(geneA, geneB)\n",
    "\n",
    "    # Copy the segment of the shorter parent between startGene and endGene (inclusive) into childP1\n",
    "    for i in range(startGene, endGene):\n",
    "        childP1.append(shorter_parent[i])\n",
    "    \n",
    "    # Copy the remaining genetic material from the longer parent that is not already present in childP1 into childP2\n",
    "    childP2 = [item for item in longer_parent if item not in childP1]\n",
    "\n",
    "    # Combine childP1 and childP2\n",
    "    child = childP1 + childP2\n",
    "    \n",
    "    # Ensure that the first and last numbers of the child match those of the longer parent\n",
    "    child[0] = longer_parent[0]\n",
    "    child[-1] = longer_parent[-1]\n",
    "\n",
    "    \n",
    "    return child\n"
   ]
  },
  {
   "cell_type": "markdown",
   "metadata": {},
   "source": [
    "Create function to run crossover over full mating pool"
   ]
  },
  {
   "cell_type": "code",
   "execution_count": 1104,
   "metadata": {},
   "outputs": [],
   "source": [
    "def breedPopulation(matingpool, eliteSize):\n",
    "    children = []\n",
    "    length = len(matingpool) - eliteSize\n",
    "    pool = random.sample(matingpool, len(matingpool))\n",
    "\n",
    "    for i in range(0,eliteSize):\n",
    "        children.append(matingpool[i]) #we add the elite without any changes to save their place for the next generation\n",
    "    \n",
    "    for i in range(0, length):\n",
    "        child = breed(pool[i], pool[len(matingpool)-i-1]) #we mate the non-elite and add them to the next generation\n",
    "        children.append(child)\n",
    "    return children"
   ]
  },
  {
   "cell_type": "markdown",
   "metadata": {},
   "source": [
    "Create function to mutate a single route"
   ]
  },
  {
   "cell_type": "code",
   "execution_count": 1172,
   "metadata": {},
   "outputs": [],
   "source": [
    "def mutate(individual, mutationRate):\n",
    "    # Ensure there are at least three genes to mutate\n",
    "    if len(individual) < 3:\n",
    "        return individual\n",
    "\n",
    "    # Create a copy of the individual to perform mutations on\n",
    "    mutated_individual = individual[:]\n",
    "\n",
    "    # Iterate over genes skipping the first and last\n",
    "    for swapped in range(1, len(mutated_individual) - 1):\n",
    "        # Check if mutation should occur based on the mutation rate\n",
    "        if random.random() < mutationRate:\n",
    "            # Select another random gene to swap with (excluding current gene)\n",
    "            swapWith = int(random.random() * (len(mutated_individual) - 2)) + 1\n",
    "\n",
    "            # Swap the values of the current gene and the randomly selected gene\n",
    "            city1 = mutated_individual[swapped]\n",
    "            city2 = mutated_individual[swapWith]\n",
    "            mutated_individual[swapped] = city2\n",
    "            mutated_individual[swapWith] = city1\n",
    "\n",
    "    return mutated_individual\n",
    "\n"
   ]
  },
  {
   "cell_type": "markdown",
   "metadata": {},
   "source": [
    "Create function to run mutation over entire population"
   ]
  },
  {
   "cell_type": "code",
   "execution_count": 1106,
   "metadata": {},
   "outputs": [],
   "source": [
    "def mutatePopulation(population, mutationRate):\n",
    "    mutatedPop = []\n",
    "    \n",
    "    for ind in range(0, len(population)):\n",
    "        mutatedInd = mutate(population[ind], mutationRate) #we mutate each individual\n",
    "        mutatedPop.append(mutatedInd)\n",
    "    return mutatedPop"
   ]
  },
  {
   "cell_type": "markdown",
   "metadata": {},
   "source": [
    "Put all steps together to create the next generation"
   ]
  },
  {
   "cell_type": "code",
   "execution_count": 1107,
   "metadata": {},
   "outputs": [],
   "source": [
    "def nextGeneration(currentGen, eliteSize, mutationRate):\n",
    "    popRanked = rankRoutes(currentGen) #first we rank the individuals\n",
    "    selectionResults = selection(popRanked, eliteSize) #then we select the elite and some other randomly chosen individuals\n",
    "    matingpool = matingPool(currentGen, selectionResults) #we select the mating pool by sepparating the elite from the randomly chosen individuals\n",
    "    children = breedPopulation(matingpool, eliteSize) #we breed the non-elite and mantain the elite\n",
    "    nextGeneration = mutatePopulation(children, mutationRate) #we mutate the whole population to explore new routes \n",
    "    return nextGeneration"
   ]
  },
  {
   "cell_type": "markdown",
   "metadata": {},
   "source": [
    "Final step: create the genetic algorithm"
   ]
  },
  {
   "cell_type": "code",
   "execution_count": 1108,
   "metadata": {},
   "outputs": [],
   "source": [
    "def geneticAlgorithm(population, popSize, eliteSize, mutationRate, generations):\n",
    "    pop = initialPopulation(popSize, population)\n",
    "    best_route_fitness = rankRoutes(pop)[0][1]  # Get the fitness of the best route\n",
    "    \n",
    "    # Check if the best route's fitness is not zero before calculating the initial distance\n",
    "    if best_route_fitness != 0:\n",
    "        initial_distance = 1 / best_route_fitness\n",
    "        print(\"Initial distance: \" + str(initial_distance))\n",
    "    else:\n",
    "        print(\"Cannot calculate initial distance: Best route fitness is zero.\")\n",
    "    \n",
    "    for i in range(0, generations):\n",
    "        pop = nextGeneration(pop, eliteSize, mutationRate)\n",
    "    \n",
    "    print(\"Final distance: \" + str(1 / rankRoutes(pop)[0][1])) #we print the final distance of the best route in the last generation\n",
    "    bestRouteIndex = rankRoutes(pop)[0][0]\n",
    "    bestRoute = pop[bestRouteIndex]\n",
    "    return bestRoute"
   ]
  },
  {
   "cell_type": "markdown",
   "metadata": {},
   "source": [
    "## Running the genetic algorithm"
   ]
  },
  {
   "cell_type": "markdown",
   "metadata": {},
   "source": [
    "Create list of cities"
   ]
  },
  {
   "cell_type": "code",
   "execution_count": 1218,
   "metadata": {},
   "outputs": [
    {
     "name": "stdout",
     "output_type": "stream",
     "text": [
      "<bound method Fitness.routeDistance of <__main__.Fitness object at 0x000001E17B626C40>>\n"
     ]
    }
   ],
   "source": [
    "StationList = [el_rosario,\n",
    "instituto_del_petroleo, \n",
    "deportivo_18_de_marzo, \n",
    "la_raza ,\n",
    "consulado, \n",
    "morelos ,\n",
    "san_lazaro, \n",
    "guerrero ,\n",
    "hidalgo ,\n",
    "bellas_artes ,\n",
    "salto_del_agua,\n",
    "balderas ,\n",
    "tacubaya ,\n",
    "pino_suarez,\n",
    "martin_carrera ,\n",
    "oceania ,\n",
    "pantitlan ,\n",
    "candelaria,\n",
    "centro_medico, \n",
    "tacuba,\n",
    "guerrero,\n",
    "garibaldi, \n",
    "ermita ,\n",
    "atlalilco, \n",
    "zapata  ,\n",
    "mixcoac ,\n",
    "jamaica ,\n",
    "chabacano] \n",
    "\n",
    "\n"
   ]
  },
  {
   "cell_type": "markdown",
   "metadata": {},
   "source": [
    "Run the genetic algorithm"
   ]
  },
  {
   "cell_type": "code",
   "execution_count": 1173,
   "metadata": {},
   "outputs": [
    {
     "name": "stdout",
     "output_type": "stream",
     "text": [
      "Initial distance: 27.0\n",
      "Final distance: 15.0\n"
     ]
    },
    {
     "data": {
      "text/plain": [
       "[el_rosario,\n",
       " instituto_del_petroleo,\n",
       " la_raza,\n",
       " consulado,\n",
       " morelos,\n",
       " candelaria,\n",
       " san_lazaro]"
      ]
     },
     "execution_count": 1173,
     "metadata": {},
     "output_type": "execute_result"
    }
   ],
   "source": [
    "geneticAlgorithm(population=StationList, popSize=100, eliteSize=5, mutationRate=0.15, generations=700)"
   ]
  }
 ],
 "metadata": {
  "kernelspec": {
   "display_name": "Python 3",
   "language": "python",
   "name": "python3"
  },
  "language_info": {
   "codemirror_mode": {
    "name": "ipython",
    "version": 3
   },
   "file_extension": ".py",
   "mimetype": "text/x-python",
   "name": "python",
   "nbconvert_exporter": "python",
   "pygments_lexer": "ipython3",
   "version": "3.9.5"
  }
 },
 "nbformat": 4,
 "nbformat_minor": 2
}
